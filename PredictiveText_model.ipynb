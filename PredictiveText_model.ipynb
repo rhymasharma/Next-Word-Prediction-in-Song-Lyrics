{
  "nbformat": 4,
  "nbformat_minor": 0,
  "metadata": {
    "colab": {
      "name": "PredictiveText_model.ipynb",
      "provenance": [],
      "collapsed_sections": [],
      "mount_file_id": "1vZPx3Pd6hWm-RByarTKx7LYfrrDEFsuW",
      "authorship_tag": "ABX9TyPWcDnb9Xb3smPuWwIYH5c5",
      "include_colab_link": true
    },
    "kernelspec": {
      "name": "python3",
      "display_name": "Python 3"
    },
    "language_info": {
      "name": "python"
    }
  },
  "cells": [
    {
      "cell_type": "markdown",
      "metadata": {
        "id": "view-in-github",
        "colab_type": "text"
      },
      "source": [
        "<a href=\"https://colab.research.google.com/github/rhymasharma/Next-Word-Prediction-in-Song-Lyrics/blob/main/PredictiveText_model.ipynb\" target=\"_parent\"><img src=\"https://colab.research.google.com/assets/colab-badge.svg\" alt=\"Open In Colab\"/></a>"
      ]
    },
    {
      "cell_type": "markdown",
      "source": [
        "#PREDICTIVE TEXT MODEL\n",
        "\n",
        "Step 1: Make a folder \"ACM_Project\" in your Google Drive. ( such that its path is \"/content/drive/MyDrive/ACM_Project\" )\n",
        "\n",
        "Step 2: Upload the following files to this folder:\n",
        "\n",
        " ->  nextword1.h5\n",
        "\n",
        " ->  tokenizer1.pkl\n",
        "\n",
        " ->  Taylor Swift.txt (this is optional, it contains the data that the model has been trained upon. You can refer to it for testing.)\n",
        "\n",
        "Step 3: Mount you Google Drive in Google Colab.\n",
        "\n",
        "Then run this code. \n",
        "\n",
        "NOTE: Type \"stop the script\" to end the program.\n"
      ],
      "metadata": {
        "id": "BL6dcqkxdxD8"
      }
    },
    {
      "cell_type": "code",
      "execution_count": null,
      "metadata": {
        "id": "sHQQxVgJdD7l"
      },
      "outputs": [],
      "source": [
        "from tensorflow.keras.models import load_model\n",
        "import numpy as np\n",
        "import pickle\n",
        "\n",
        "# Load the model and tokenizer\n",
        "\n",
        "model = load_model('/content/drive/MyDrive/ACM_Project/nextword1.h5')\n",
        "tokenizer = pickle.load(open('/content/drive/MyDrive/ACM_Project/tokenizer1.pkl', 'rb'))\n",
        "\n",
        "def Predict_Next_Words(model, tokenizer, text):\n",
        "    \"\"\"\n",
        "        In this function we are using the tokenizer and models trained\n",
        "        and we are creating the sequence of the text entered and then\n",
        "        using our model to predict and return the the predicted word.\n",
        "    \n",
        "    \"\"\"\n",
        "    \n",
        "    \n",
        "    \n",
        "    sequence = tokenizer.texts_to_sequences([text])\n",
        "    sequence = np.array(sequence)\n",
        "    \n",
        "    \n",
        "    #  preds = model.predict_classes(sequence)\n",
        "    predict_x=model.predict(sequence) \n",
        "    preds=np.argmax(predict_x)\n",
        "    \n",
        "    # print(preds)\n",
        "    predicted_word = \"\"\n",
        "    \n",
        "    for key, value in tokenizer.word_index.items():\n",
        "        if value == preds:\n",
        "            predicted_word = key\n",
        "            break\n",
        "    \n",
        "    print(predicted_word)\n",
        "    return predicted_word"
      ]
    },
    {
      "cell_type": "code",
      "source": [
        "while(True):\n",
        "\n",
        "    text = input(\"Enter your line: \")\n",
        "    \n",
        "    if text == \"stop the script\":\n",
        "        print(\"Ending The Program.....\")\n",
        "        break\n",
        "    \n",
        "    else:\n",
        "        try:\n",
        "            text = text.split(\" \")\n",
        "            text = text[-5:]\n",
        "            Predict_Next_Words(model, tokenizer, text)\n",
        "            \n",
        "        except:\n",
        "            continue"
      ],
      "metadata": {
        "id": "EzBD7o0-dMW2"
      },
      "execution_count": null,
      "outputs": []
    }
  ]
}